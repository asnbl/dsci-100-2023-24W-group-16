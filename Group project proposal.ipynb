{
 "cells": [
  {
   "cell_type": "markdown",
   "id": "73147801-fd4a-48b6-9d62-828c249faa81",
   "metadata": {},
   "source": [
    "# Prediction for Diabetes in Adult Females of Pima Indian Heritage"
   ]
  },
  {
   "cell_type": "markdown",
   "id": "b7fcb7ad-65f9-4db2-912d-d11406ab9f2a",
   "metadata": {},
   "source": [
    "## 1. Introduction:\n",
    "\n",
    "In the medical industry, the ability to efficiently and effectively detect and remedy diseases is crucial to improving a patient's health. Quite notably, the early detection of diabetes, a chronic metabolic disorder affecting millions worldwide, can prevent serious complications. Luckily, with advancements in data science we can create models to help predict whether a person has diabetes or not by employing the methods of classification. \n",
    "\n",
    "We hope to answer the question: Can we determine key identifiers to whether an adult female of Pima Indian heritage has diabetes, and whether using these specific identifiers produces a better model for prediction of diabetes in an adult female of Pima Indian heritage than using all the given predictors?\n",
    "\n",
    "Using an existing data set from The National Institute of Diabetes and Digestive and Kidney Diseases, we will create a classification model to determine the answer to our question. All patients listed in this database are females over the age of 21 and of Pima Indian heritage. This data set consists of several medical predictors (independent) variables and one target (dependent) variable, Outcome. They have modeled the outcome on two class variables 0 (does not have diabetes) and 1 (has diabetes).\n"
   ]
  },
  {
   "cell_type": "code",
   "execution_count": null,
   "id": "80c6033c-e646-42e9-a536-461112d7ae64",
   "metadata": {
    "tags": []
   },
   "outputs": [],
   "source": [
    "### run to install necessary libraries ###\n",
    "library(repr)\n",
    "library(tidyverse)\n",
    "library(tidymodels)\n",
    "install.packages(\"kknn\")\n",
    "install.packages(\"janitor\")\n",
    "library(janitor)\n",
    "options(repr.matrix.max.rows = 6)"
   ]
  },
  {
   "cell_type": "markdown",
   "id": "f22937fc-c9b5-482a-b09e-c9b38b94b119",
   "metadata": {},
   "source": [
    "## 2. Preliminary exploratory data analysis:"
   ]
  },
  {
   "cell_type": "code",
   "execution_count": null,
   "id": "f7aaefba-466b-4e70-b7f2-2749ac17702b",
   "metadata": {
    "tags": []
   },
   "outputs": [],
   "source": [
    "# read the data\n",
    "diabetes <- read_csv(\"https://raw.githubusercontent.com/asnbl/dsci-100-2023-24W-group-16/main/diabetes.csv\")\n",
    "\n",
    "diabetes"
   ]
  },
  {
   "cell_type": "markdown",
   "id": "be3adf5c-c311-450a-9a8c-e6072079c502",
   "metadata": {},
   "source": [
    "**Table 1 : Original Diabetes Data Set**"
   ]
  },
  {
   "cell_type": "code",
   "execution_count": null,
   "id": "9372a799-fee1-4339-9b83-aa363b455e9c",
   "metadata": {
    "tags": []
   },
   "outputs": [],
   "source": [
    "# tidy and wrangle data\n",
    "diabetes_clean <- diabetes |>\n",
    "    mutate(Outcome = as_factor(Outcome)) |>\n",
    "    rename(\"Diabetes\" = Outcome) |> \n",
    "    mutate(Diabetes = fct_recode(Diabetes, \"yes\" = \"1\", \"no\"  = \"0\")) |>\n",
    "    mutate(across(.cols = -Pregnancies, ~replace(., . == 0, NA)))\n",
    "\n",
    "head(diabetes_clean)\n",
    "\n",
    "diabetes_split <- initial_split(diabetes_clean, prop = 0.75, strata = Diabetes)\n",
    "diabetes_train <- training(diabetes_split)\n",
    "diabetes_test <- testing(diabetes_split) "
   ]
  },
  {
   "cell_type": "markdown",
   "id": "bb57f821-db37-45f6-80e3-f215d7f0c505",
   "metadata": {},
   "source": [
    "**Table 2 : Cleaned Diabetes Data Set**"
   ]
  },
  {
   "cell_type": "markdown",
   "id": "f36fd2bd-a0a9-4874-bbfd-9652b9116b36",
   "metadata": {},
   "source": [
    "Looking at the original data, there was not a lot that had to be done to tidy the data. However, to make the data easier for the average consumer to interpret, we decided to rename 'Outcome' to 'Diabetes' and refactor its values as \"yes\" and \"no\", rather than 1 and 0. After that, we then replaced all 0 values which are not in pregnancies with NA as those 0 values are representative of a lack of a measurement."
   ]
  },
  {
   "cell_type": "markdown",
   "id": "7636cba5-7630-4c3c-8466-9d1b2ac677eb",
   "metadata": {},
   "source": [
    "### Summarizing the Data\n",
    "\n",
    "Here, we will summarize properties of our training data, like the proportion of people with diabetes vs no diabetes, means of predictors, and amount of NA values."
   ]
  },
  {
   "cell_type": "code",
   "execution_count": null,
   "id": "02f073aa-99b7-4d5d-acc2-ba9824d4c2e8",
   "metadata": {
    "tags": []
   },
   "outputs": [],
   "source": [
    "# summary\n",
    "diabetes_proportions <- diabetes_train |>\n",
    "    group_by(Diabetes) |>\n",
    "    summarize(count = n()) |>\n",
    "    mutate(percent = 100*count/nrow(diabetes_train))\n",
    "\n",
    "diabetes_proportions"
   ]
  },
  {
   "cell_type": "markdown",
   "id": "4b2363a2-87fc-482a-b72a-7eaae1d0baf6",
   "metadata": {},
   "source": [
    "**Table 3 : Diabetes Proportions**"
   ]
  },
  {
   "cell_type": "markdown",
   "id": "ca907280-8476-43d0-9de2-4bf8abd0b871",
   "metadata": {},
   "source": [
    "From the data frame above, we can see that around 65% of our training data does not have diabetes, and around 35% does.\n",
    "**Since the class of no diabetes represents the majority of the training data, the majority classifier would always predict that a new observation has diabetes. The estimated accuracy of the majority classifier is usually fairly close to the majority class proportion in the training data. In this case, we would suspect that the majority classifier will have an accuracy of around NA%.**"
   ]
  },
  {
   "cell_type": "code",
   "execution_count": null,
   "id": "03acb524-874c-45a5-a8e7-f4907636aec5",
   "metadata": {
    "tags": []
   },
   "outputs": [],
   "source": [
    "predictor_means <- diabetes_train |>\n",
    "    na.omit() |>\n",
    "    select(-Diabetes) |>\n",
    "    map_df(mean)\n",
    "\n",
    "predictor_means"
   ]
  },
  {
   "cell_type": "markdown",
   "id": "27218f5b-c7a2-4b9f-8439-88356d6f5ad6",
   "metadata": {},
   "source": [
    "**Table 4 : Mean of the Predictors**"
   ]
  },
  {
   "cell_type": "markdown",
   "id": "362e80c0-d102-4675-941e-40096a86f8cb",
   "metadata": {
    "tags": []
   },
   "source": [
    "In the above data frame, the average value for each predictor is displayed. "
   ]
  },
  {
   "cell_type": "code",
   "execution_count": null,
   "id": "fba77c6e-125b-4be1-bc99-37cc106c6de5",
   "metadata": {
    "tags": []
   },
   "outputs": [],
   "source": [
    "missing_count <- sum(is.na(diabetes_train))\n",
    "\n",
    "missing_count\n",
    "dim(diabetes_train)"
   ]
  },
  {
   "cell_type": "markdown",
   "id": "13af8665-3a8e-4e93-890c-8b4aca0e0d43",
   "metadata": {},
   "source": [
    "The top number represents how many NA values are in our training data set. Considering that there are 5184 (576 x 9) values, having around 10% be NA should not impact our results too significantly."
   ]
  },
  {
   "cell_type": "markdown",
   "id": "4b2bed67-9b6f-422d-9c69-825f60d3235f",
   "metadata": {},
   "source": [
    "### Visualizing the Data\n",
    "\n",
    "It is important to use summary tables and visualizations to analyze distributions between groups. Here, we will use box plots to look at relationship between the predictor variable and the response variable to do feature selection and narrow down the number of predictor variables we want to use."
   ]
  },
  {
   "cell_type": "code",
   "execution_count": null,
   "id": "926d6121-3120-410d-badf-3b2d1850dd31",
   "metadata": {
    "tags": []
   },
   "outputs": [],
   "source": [
    "# Set options for plot width and height\n",
    "options(repr.plot.width = 7, repr.plot.height = 6)\n",
    "\n",
    "pregnancies <- ggplot(diabetes_train, aes(x = Diabetes, y = Pregnancies, fill = Diabetes)) +\n",
    "        geom_boxplot() +\n",
    "        labs( x = \"Prescence of Diabetes\", y = \"Pregnancies\") +\n",
    "        ggtitle(\"Figure 1 : Pregnancies vs Prescence of Diabetes\")\n",
    "\n",
    "pregnancies"
   ]
  },
  {
   "cell_type": "markdown",
   "id": "adadde86-fd56-4797-94f9-fde49aef1b79",
   "metadata": {},
   "source": [
    "The plot is a box plot comparing the number of pregnancies between individuals with and without diabetes, indicating a higher median number of pregnancies in individuals with diabetes."
   ]
  },
  {
   "cell_type": "code",
   "execution_count": null,
   "id": "0bea17f1-69ec-46bf-980f-d8ac2f59bf67",
   "metadata": {
    "tags": []
   },
   "outputs": [],
   "source": [
    "# Set options for plot width and height\n",
    "options(repr.plot.width = 7, repr.plot.height = 5)\n",
    "\n",
    "glucose <- ggplot(diabetes_train, aes(x = Diabetes, y = Glucose, fill = Diabetes)) +\n",
    "        geom_boxplot() +\n",
    "        labs( x = \"Prescence of Diabetes\", y = \"Plasma Glucose Concentration (mg/dL)\") +\n",
    "        ggtitle(\"Figure 2 : Glucose vs Prescence of Diabetes\")\n",
    "glucose"
   ]
  },
  {
   "cell_type": "markdown",
   "id": "ec1f58d8-bb7a-4142-b8bb-ae8ef742b12d",
   "metadata": {},
   "source": [
    "The plot is a box plot displaying the distribution of plasma glucose concentrations, showing higher levels in individuals with diabetes compared to those without."
   ]
  },
  {
   "cell_type": "code",
   "execution_count": null,
   "id": "9f36e6d2-cfc7-47ad-9563-382701662df6",
   "metadata": {},
   "outputs": [],
   "source": [
    "# Set options for plot width and height\n",
    "options(repr.plot.width = 7, repr.plot.height = 5)\n",
    "\n",
    "blood_pressure <- ggplot(diabetes_train, aes(x = Diabetes, y = BloodPressure, fill = Diabetes)) +\n",
    "        geom_boxplot() +\n",
    "        labs( x = \"Prescence of Diabetes\", y = \"Blood Pressure (mm Hg)\") +\n",
    "        ggtitle(\"Figure 3 : Blood Pressure vs Prescence of Diabetes\")\n",
    "blood_pressure"
   ]
  },
  {
   "cell_type": "markdown",
   "id": "d95a3574-11cc-4c8a-8ea6-46cef8546f7e",
   "metadata": {},
   "source": [
    "The plot is a box plot showing blood pressure distribution with generally higher values in individuals diagnosed with diabetes compared to those without diabetes."
   ]
  },
  {
   "cell_type": "code",
   "execution_count": null,
   "id": "86ff84d1-e1a0-4497-8d6a-ee4bd952c6b2",
   "metadata": {},
   "outputs": [],
   "source": [
    "# Set options for plot width and height\n",
    "options(repr.plot.width = 7, repr.plot.height = 5)\n",
    "\n",
    "skin_thickness <- ggplot(diabetes_train, aes(x = Diabetes, y = SkinThickness, fill = Diabetes)) +\n",
    "        geom_boxplot() +\n",
    "        labs( x = \"Prescence of Diabetes\", y = \"Skin Thickness (mm)\") +\n",
    "        ggtitle(\"Figure 4 : Skin Thickness vs Prescence of Diabetes\")\n",
    "skin_thickness"
   ]
  },
  {
   "cell_type": "markdown",
   "id": "07ea485c-1968-42aa-b80a-e705c2bc6b64",
   "metadata": {},
   "source": [
    "The plot is a box plot comparing skin thickness measurements, showing a slightly higher median skin thickness in individuals with diabetes compared to those without."
   ]
  },
  {
   "cell_type": "code",
   "execution_count": null,
   "id": "64a9180e-e99e-4756-9282-6c0c5940037b",
   "metadata": {},
   "outputs": [],
   "source": [
    "# Set options for plot width and height\n",
    "options(repr.plot.width = 7, repr.plot.height = 5)\n",
    "\n",
    "insulin <- ggplot(diabetes_train, aes(x = Diabetes, y = Insulin, fill = Diabetes)) +\n",
    "        geom_boxplot() +\n",
    "        labs( x = \"Prescence of Diabetes\", y = \"Insulin (mu U/ml)\") +\n",
    "        ggtitle(\"Figure 5 : Insulin vs Prescence of Diabetes\")\n",
    "insulin"
   ]
  },
  {
   "cell_type": "markdown",
   "id": "7890fb05-4854-440d-9d05-bb8a00183427",
   "metadata": {},
   "source": [
    "The plot is a box plot showing that individuals with diabetes have a wider range and higher median insulin levels compared to those without diabetes."
   ]
  },
  {
   "cell_type": "code",
   "execution_count": null,
   "id": "e2348445-f90f-4a6e-8a94-7148f6db39ff",
   "metadata": {},
   "outputs": [],
   "source": [
    "# Set options for plot width and height\n",
    "options(repr.plot.width = 7, repr.plot.height = 5)\n",
    "\n",
    "BMI <- ggplot(diabetes_train, aes(x = Diabetes, y = BMI, fill = Diabetes)) +\n",
    "        geom_boxplot() + \n",
    "        labs( x = \"Prescence of Diabetes\", y = \"BMI (kg/m^2)\") +\n",
    "        ggtitle(\"Figure 6 : Body Mass Index vs Prescence of Diabetes\")\n",
    "BMI"
   ]
  },
  {
   "cell_type": "markdown",
   "id": "74478aa1-42ee-4d5b-beb9-99f93b8eb268",
   "metadata": {},
   "source": [
    "The plot is a box plot illustrating that individuals with diabetes tend to have higher Body Mass Index (BMI) values than those without diabetes."
   ]
  },
  {
   "cell_type": "code",
   "execution_count": null,
   "id": "4b08f476-258f-4ef2-857a-24d444425a75",
   "metadata": {},
   "outputs": [],
   "source": [
    "# Set options for plot width and height\n",
    "options(repr.plot.width = 7, repr.plot.height = 5)\n",
    "\n",
    "diabetes_pedigree_fn <- ggplot(diabetes_train, aes(x = Diabetes, y = DiabetesPedigreeFunction, fill = Diabetes)) +\n",
    "        geom_boxplot() + \n",
    "        labs( x = \"Prescence of Diabetes\", y = \"Diabetes Pedigree Function\") +\n",
    "        ggtitle(\"Figure 7 : Diabetes Pedigree Function vs Prescence of Diabetes\")\n",
    "diabetes_pedigree_fn"
   ]
  },
  {
   "cell_type": "markdown",
   "id": "545521b5-e246-4264-a6db-99a06b65b6f0",
   "metadata": {},
   "source": [
    "The plot is a box plot showing that the values of the Diabetes Pedigree Function are higher on average for individuals with diabetes than for those without."
   ]
  },
  {
   "cell_type": "markdown",
   "id": "3d8beeac-8f0a-4d27-b12c-5fa9b0991a18",
   "metadata": {
    "tags": []
   },
   "source": [
    "### Overall Conclusion"
   ]
  },
  {
   "cell_type": "markdown",
   "id": "ed678de4-3da7-4ba8-b6eb-1241a75bb308",
   "metadata": {},
   "source": [
    "From the above graphs, it can be seen that the predictors with the least overlap between the boxes for each of the two response variables are glucose and insulin. This means a model using glucose and insulin as predictors will most likely produce the best results."
   ]
  },
  {
   "cell_type": "markdown",
   "id": "27319368-8ad7-4642-ba76-9e542596eec9",
   "metadata": {},
   "source": [
    "## Making the Model(s)\n",
    "### Using only Glucose and Insulin"
   ]
  },
  {
   "cell_type": "code",
   "execution_count": null,
   "id": "9f682eb9-d788-47f9-8d4a-78d32159f437",
   "metadata": {
    "tags": []
   },
   "outputs": [],
   "source": [
    "# Using only glucose and insulin\n",
    "# Set the seed\n",
    "set.seed(1000) \n",
    "\n",
    "options(repr.plot.height = 5, repr.plot.width = 6)\n",
    "\n",
    "dia1_split <- diabetes_clean |>\n",
    "            select(Glucose, Insulin, Diabetes) |>\n",
    "            na.omit() |>\n",
    "            initial_split(prop = 0.75, strata = Diabetes)\n",
    "\n",
    "dia1_train <- training(dia1_split)\n",
    "\n",
    "dia1_test <- testing(dia1_split)\n",
    "\n",
    "k_vals <- tibble(neighbors = seq(from = 1, to = 8))\n",
    "\n",
    "knn_spec <- nearest_neighbor(weight_func = \"rectangular\", neighbors = tune()) |>\n",
    "            set_engine(\"kknn\") |>\n",
    "            set_mode(\"classification\")\n",
    "\n",
    "dia1_recipe <- recipe(Diabetes ~., data = dia1_train) |>\n",
    "            step_scale(all_predictors()) |>\n",
    "            step_center(all_predictors())\n",
    "\n",
    "dia1_vfold <- vfold_cv(dia1_train, v = 5, strata = Diabetes)\n",
    "\n",
    "\n",
    "dia1_results <- workflow() |>\n",
    "            add_recipe(dia1_recipe) |>\n",
    "            add_model(knn_spec) |>\n",
    "            tune_grid(resamples = dia1_vfold, grid = k_vals) |>\n",
    "            collect_metrics() \n",
    "\n",
    "cross_val_plot <- filter(dia1_results, .metric == \"accuracy\") |>\n",
    "    ggplot(aes(x = neighbors, y = mean)) +\n",
    "    geom_point() +\n",
    "    geom_line() +\n",
    "    labs(x = \"Neighbours\", y = \"Accuracy\") +\n",
    "    scale_x_continuous(breaks = seq(0, 20)) +\n",
    "    scale_y_continuous(limits = c(0.65, 0.76)) +\n",
    "    ggtitle(\"Figure 8 : Glucose and Insulin Model\")\n",
    "\n",
    "cross_val_plot"
   ]
  },
  {
   "cell_type": "markdown",
   "id": "37c8ac5e-30cf-45b2-a479-cfedffddae09",
   "metadata": {},
   "source": [
    "From this it can be seen that the optimal k-value appears to be either 5 or 6. For our model, we will choose 5 as we have 2 classes, and therefore using an odd number will remove the possibility of a tie."
   ]
  },
  {
   "cell_type": "code",
   "execution_count": null,
   "id": "12824bc4-7e6f-4d8f-be27-a2364da5b57a",
   "metadata": {
    "tags": []
   },
   "outputs": [],
   "source": [
    "# Using only glucose and insulin\n",
    "# Set the seed\n",
    "set.seed(1000) \n",
    "\n",
    "dia1_spec <- nearest_neighbor(weight_func = \"rectangular\", neighbors = 5) |>\n",
    "            set_engine(\"kknn\") |>\n",
    "            set_mode(\"classification\")\n",
    "\n",
    "dia1_fit <- workflow() |>\n",
    "            add_recipe(dia1_recipe) |>\n",
    "            add_model(dia1_spec) |>\n",
    "            fit(data = dia1_train) \n",
    "\n",
    "dia1_predictions <- predict(dia1_fit, dia1_test) |>\n",
    "                    bind_cols(dia1_test)\n",
    "\n",
    "dia1_metrics <- dia1_predictions |> metrics(truth = Diabetes, estimate = .pred_class) |>\n",
    "                filter(.metric == \"accuracy\")\n",
    "\n",
    "dia1_conf_mat <- dia1_predictions |>\n",
    "                 conf_mat(truth = Diabetes, estimate = .pred_class) \n",
    "\n",
    "dia1_predictions\n",
    "dia1_metrics\n",
    "dia1_conf_mat"
   ]
  },
  {
   "cell_type": "markdown",
   "id": "f00fd667-4f8c-4ba5-a48d-f9ce30faff4a",
   "metadata": {},
   "source": [
    "**Table 5 : Predictions using Glucose and Insulin**"
   ]
  },
  {
   "cell_type": "markdown",
   "id": "a30c2d23-1d60-42cd-83f2-9316d1b64904",
   "metadata": {},
   "source": [
    "Here, we can see that the model trained on just insulin and glucose as predictors has an accuracy estimate of 73.7%.\n",
    "It can also be observed that the classifier predicted a higher amount of yes classes predicted incorrectly as no which is corroborates with the original distribution of yes and no classes we had in the training data (65% no, 35% yes)."
   ]
  },
  {
   "cell_type": "markdown",
   "id": "8c278dd9-943e-43ab-9c3d-def5e95267b2",
   "metadata": {},
   "source": [
    "### Visualization"
   ]
  },
  {
   "cell_type": "code",
   "execution_count": null,
   "id": "c53f7378-f41c-4252-a9c8-1a0fbbb036f0",
   "metadata": {
    "tags": []
   },
   "outputs": [],
   "source": [
    "# Graph of Insulin and Glucose\n",
    "\n",
    "dia1_truth_graph <- ggplot(dia1_predictions, aes(x = Glucose, y = Insulin, color = Diabetes)) +\n",
    "        geom_point() +\n",
    "        labs(x = \"Plasma Glucose Concentration (mg/dL)\", y = \"Insulin (mu U/ml)\", color = \"Diabetes present?\") +\n",
    "        ggtitle(\"Figure 9 : Insulin vs Glucose (Truth)\") +\n",
    "        scale_x_continuous(limits = c(0, 250))\n",
    "\n",
    "dia1_pred_graph <- ggplot(dia1_predictions, aes(x = Glucose, y = Insulin, color = .pred_class)) +\n",
    "        geom_point() +\n",
    "        labs(x = \"Plasma Glucose Concentration (mg/dL)\", y = \"Insulin (mu U/ml)\", color = \"Diabetes present?\") +\n",
    "        ggtitle(\"Figure 10 : Insulin vs Glucose (Predicted)\") +\n",
    "        scale_x_continuous(limits = c(0, 250)) \n",
    "\n",
    "dia1_truth_graph\n",
    "dia1_pred_graph"
   ]
  },
  {
   "cell_type": "markdown",
   "id": "ee2da014-3e1e-4bc0-afd7-f267226df085",
   "metadata": {},
   "source": [
    "Above is a visualization of the model and what it predicts."
   ]
  },
  {
   "cell_type": "markdown",
   "id": "53d266c4-5497-4c14-afb9-b63a53b02c5d",
   "metadata": {},
   "source": [
    "### Using all Given Predictors"
   ]
  },
  {
   "cell_type": "code",
   "execution_count": null,
   "id": "a293e043-96af-441e-83d1-eee823cb75b9",
   "metadata": {
    "tags": []
   },
   "outputs": [],
   "source": [
    "# Using all predictors\n",
    "# Set the seed\n",
    "set.seed(1000) \n",
    "\n",
    "options(repr.plot.height = 5, repr.plot.width = 6)\n",
    "\n",
    "dia2_train <- na.omit(diabetes_train)\n",
    "\n",
    "dia2_test <- na.omit(diabetes_test)\n",
    "\n",
    "dia2_recipe <- recipe(Diabetes ~., data = dia2_train) |>\n",
    "            step_scale(all_predictors()) |>\n",
    "            step_center(all_predictors())\n",
    "\n",
    "dia2_vfold <- vfold_cv(dia2_train, v = 5, strata = Diabetes)\n",
    "\n",
    "\n",
    "dia2_results <- workflow() |>\n",
    "            add_recipe(dia2_recipe) |>\n",
    "            add_model(knn_spec) |>\n",
    "            tune_grid(resamples = dia2_vfold, grid = k_vals) |>\n",
    "            collect_metrics() \n",
    "\n",
    "cross_val_plot <- filter(dia2_results, .metric == \"accuracy\") |>\n",
    "    ggplot(aes(x = neighbors, y = mean)) +\n",
    "    geom_point() +\n",
    "    geom_line() +\n",
    "    labs(x = \"Neighbours\", y = \"Accuracy\") +\n",
    "    scale_x_continuous(breaks = seq(0, 20)) +\n",
    "    ggtitle(\"Figure 11 : All Predictors Model\")\n",
    "\n",
    "cross_val_plot"
   ]
  },
  {
   "cell_type": "markdown",
   "id": "e2ea667a-39ef-4885-93fe-c9bb0086a73c",
   "metadata": {},
   "source": [
    "From this it can be seen that the optimal k-value appears to be either 5 or 6 again. For our model, we will choose 5 as we have 2 classes, and therefore using an odd number will remove the possibility of a tie."
   ]
  },
  {
   "cell_type": "code",
   "execution_count": null,
   "id": "2d4c8cda-3e10-4876-98bd-c0d6171aeb99",
   "metadata": {
    "tags": []
   },
   "outputs": [],
   "source": [
    "# Using all predictors\n",
    "# Set the seed\n",
    "set.seed(1000) \n",
    "\n",
    "dia2_spec <- nearest_neighbor(weight_func = \"rectangular\", neighbors = 5) |>\n",
    "            set_engine(\"kknn\") |>\n",
    "            set_mode(\"classification\")\n",
    "\n",
    "dia2_fit <- workflow() |>\n",
    "            add_recipe(dia2_recipe) |>\n",
    "            add_model(dia2_spec) |>\n",
    "            fit(data = dia2_train) \n",
    "\n",
    "dia2_predictions <- predict(dia2_fit, dia2_test) |>\n",
    "                    bind_cols(dia2_test)\n",
    "\n",
    "dia2_metrics <- dia2_predictions |> metrics(truth = Diabetes, estimate = .pred_class) |>\n",
    "                filter(.metric == \"accuracy\")\n",
    "\n",
    "dia2_conf_mat <- dia2_predictions |>\n",
    "                 conf_mat(truth = Diabetes, estimate = .pred_class) \n",
    "dia2_metrics\n",
    "dia2_conf_mat"
   ]
  },
  {
   "cell_type": "markdown",
   "id": "096c4c75-ce62-4421-a734-07c77eaa58e7",
   "metadata": {},
   "source": [
    "**Table 6 : Predictions using all the predictors**"
   ]
  },
  {
   "cell_type": "markdown",
   "id": "5b30460b-02a9-45df-8b4b-27a3c879bea7",
   "metadata": {},
   "source": [
    "As we can see, the model produces less accurate results when using all the predictors to train the model, with the accuracy being 68.9% compared to the earlier 73.7%.\n",
    "\n",
    "We did not create a visualization for this one as there are too many predictors to graph."
   ]
  },
  {
   "cell_type": "markdown",
   "id": "f1951f82-c94f-49a9-9b9c-2950693caadb",
   "metadata": {},
   "source": [
    "**Methods:**\n",
    "\n",
    "1. First, the foundation for building a good classification prediction model is to load the correct libraries and read the data using the read_csv() function.\n",
    "\n",
    "2. Next, we plan to clean and wrangle the data. The data is already tidy, so to make the data easier for the average consumer to interpret, we decided to rename 'Outcome' to 'Diabetes' and refactor its values as \"yes\" and \"no\", rather than 1 and 0, respectively. After that, we then replaced all 0 values which are not in pregnancies with NA as those 0 values are representative of a lack of a measurement.\n",
    "3. Now we split the data into training and testing sets. \n",
    "4. Then, using our training data set we will summarize properties of our training data, like the proportion of people with diabetes vs no diabetes, means of predictors, and amount of NA values to get an idea of what our data set looks like.\n",
    "5. Next, we can narrow down the best predictors for diabetes by plotting the predictors against each class (yes or no diabetes) in box plots.\n",
    "6. We discovered that glucose, insulin, and BMI appear to have the least overlap and therefore are the most different between classes. Using these specific predictors we will make a knn classification model and then compare it with a knn classification model made using all the given predictors.\n",
    "7. For each knn classification model, we first combined pre-processing and model training using a workflow. Then by tuning and using cross-validation, we determined the optimal k-value to use for our classifier. \n",
    "8. Finally, we can test each model’s accuracy on the test data that the classifier was not trained on and compare the results."
   ]
  },
  {
   "cell_type": "markdown",
   "id": "b9c51b5b-2172-48b8-ba2b-19a7faf3299b",
   "metadata": {},
   "source": [
    "## Discussion"
   ]
  },
  {
   "cell_type": "markdown",
   "id": "d96acd1c-6c48-422a-8fd4-7fa24f5e909f",
   "metadata": {},
   "source": [
    "### Summary of the results found:\n",
    "\n",
    "In this project we were indeed able to determine key identifiers to whether an adult female of Pima Indian heritage has diabetes using box plots. Then, after building the models and evaluating their performances, we found that the model trained with glucose and insulin gave an accuracy of 73.7% while the model trained with all the predictors gave an accuracy of 70.9%. Thus, it can be said that we were able to produce a better classification model for prediction of diabetes in an adult female of Pima Indian heritage when trained on just the key identifiers(Glucose and Insulin) rather than all of the possible predictors. \n",
    "\n",
    "### Expected results:\n",
    "\n",
    "The results that we found were the same as what we expected to find. As glucose and insulin were the two predictors that produced box plots of which had the least overlap when plotted against presence of diabetes, we came to a conclusion that a model using glucose and insulin as predictors will most likely produce the best results. This was then verified by our evaluation of both models. \n",
    "\n",
    "### Impacts:\n",
    "\n",
    "A model like this can not only contribute to the growing field of predictive medicine but also enhance the concept of preventive healthcare practices which can help improve the lives of millions who are susceptible to diabetes. Timely intervention and adjustments to their lifestyle can aid in managing the condition and lowering the disease's risk. Although our model is not extremely accurate, it is a good start to helping identify individuals at high risk. If a sufficient model is made, we can then examine the efficiency of various intervention approaches, such as dietary and exercise programs, to determine which ones are the most effective in preventing diabetes.\n",
    "\n",
    "### Future Questions:\n",
    "To conclude, while we were able to produce a model which predicts the presence of diabetes in an adult female of Pima Indian heritage, it is not the most accurate, with the better model having an accuracy of **SMT**. Thus, we can ask: \"how we can better our model?\". There are many potential reasons for the inaccuracies in our model, one of which being the uneven distribution of those with and without diabetes in our original data set(65% without, 35% with). A future question that can be asked would be \"Can upsampling help improve the accuracy of our model?\" or \"Will a differently proportioned data set yield the same results?\".\n"
   ]
  },
  {
   "cell_type": "markdown",
   "id": "9c5b0766-1cf4-4fc8-b1b4-7d0aaf621f27",
   "metadata": {},
   "source": [
    "## References\n",
    "\n",
    "https://www.kaggle.com/datasets/uciml/pima-indians-diabetes-database\n"
   ]
  },
  {
   "cell_type": "code",
   "execution_count": null,
   "id": "8c107eb1-111d-4940-b1ab-71ef472576b2",
   "metadata": {},
   "outputs": [],
   "source": []
  }
 ],
 "metadata": {
  "kernelspec": {
   "display_name": "R",
   "language": "R",
   "name": "ir"
  },
  "language_info": {
   "codemirror_mode": "r",
   "file_extension": ".r",
   "mimetype": "text/x-r-source",
   "name": "R",
   "pygments_lexer": "r",
   "version": "4.2.2"
  }
 },
 "nbformat": 4,
 "nbformat_minor": 5
}
