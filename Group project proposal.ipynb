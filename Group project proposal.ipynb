{
 "cells": [
  {
   "cell_type": "markdown",
   "id": "73147801-fd4a-48b6-9d62-828c249faa81",
   "metadata": {},
   "source": [
    "**Prediction for Diabetes in Adult Females of Pima Indian Heritage**"
   ]
  },
  {
   "cell_type": "markdown",
   "id": "b7fcb7ad-65f9-4db2-912d-d11406ab9f2a",
   "metadata": {},
   "source": [
    "\n",
    "**Introduction:**\n",
    "\n",
    "In the medical industry, the ability to predict and prevent diseases plays a crucial role in improving any patients' health. By looking at the patterns from the past we can be prepared to take any necessary action to insure that a patient can recover well from a disease and what precautions they should take in the future in order to remain healthy. One such critical area is early detection of diabetes, a chronic metabolic disorder affecting millions worldwide. Luckily, with advancements in data science we can easily predict whether a person has diabetes or not by employing the methods of classification. A model like this will not only contribute to the growing field of predictive medicine but also enhance the concept of preventive healthcare practices which can help improve the  lives of millions who are susceptible to diabetes.\n",
    "\n",
    "Using this existing data set, we will create a classification model to predict if an adult female of Pima Indian heritage has diabetes by looking at the factors:\n",
    "1.Glucose Levels\n",
    "2.Insulin\n",
    "3.Blood Pressure \n",
    "4.BMI.\n",
    "\n",
    "The data set used is taken from The National Institute of Diabetes and Digestive and Kidney Diseases. All the patients listed in this database are females over the age of 21 and of Pima Indian heritage. This data set consists of several medical predictor (independent) variables and one target (dependent) variable, Outcome. They have modeled the outcome on two class variables  0 (does not have diabetes) and 1 (has diabetes). \n"
   ]
  },
  {
   "cell_type": "markdown",
   "id": "f22937fc-c9b5-482a-b09e-c9b38b94b119",
   "metadata": {},
   "source": [
    "**Preliminary exploratory data analysis:**\n",
    "\n",
    "Demonstrate that the dataset can be read from the web into R \n",
    "\n",
    "Clean and wrangle your data into a tidy format\n",
    "\n",
    "Using only training data, summarize the data in at least one table (this is exploratory data analysis). An example of a useful table could be one that reports the number of observations in each class, the means of the predictor variables you plan to use in your analysis and how many rows have missing data. \n",
    "\n",
    "Using only training data, visualize the data with at least one plot relevant to the analysis you plan to do (this is exploratory data analysis). An example of a useful visualization could be one that compares the distributions of each of the predictor variables you plan to use in your analysis."
   ]
  },
  {
   "cell_type": "code",
   "execution_count": null,
   "id": "80c6033c-e646-42e9-a536-461112d7ae64",
   "metadata": {
    "tags": []
   },
   "outputs": [],
   "source": [
    "library(repr)\n",
    "library(tidyverse)\n",
    "library(tidymodels)\n",
    "library(corrplot)\n",
    "options(repr.matrix.max.rows = 6)"
   ]
  },
  {
   "cell_type": "code",
   "execution_count": null,
   "id": "f7aaefba-466b-4e70-b7f2-2749ac17702b",
   "metadata": {
    "tags": []
   },
   "outputs": [],
   "source": [
    "diabetes <- read_csv(\"https://raw.githubusercontent.com/asnbl/dsci-100-2023-24W-group-16/main/diabetes.csv\") \n",
    "diabetes"
   ]
  },
  {
   "cell_type": "code",
   "execution_count": null,
   "id": "9372a799-fee1-4339-9b83-aa363b455e9c",
   "metadata": {
    "tags": []
   },
   "outputs": [],
   "source": [
    "diabetes_clean <- diabetes |>\n",
    "    mutate(Outcome = as_factor(Outcome)) |>\n",
    "    mutate(Outcome = fct_recode(Outcome, \"1\" = \"Has Diabetes\", \"2\" = \"Does not have Diabetes\")) |>\n",
    "    rename(\"HasDiabetes?\" = Outcome)\n",
    "    select(Glucose, BloodPressure, Outcome) \n",
    "diabetes_clean"
   ]
  },
  {
   "cell_type": "code",
   "execution_count": null,
   "id": "c2853608-c0d6-4029-98a1-21552a16c137",
   "metadata": {
    "tags": []
   },
   "outputs": [],
   "source": [
    "diabetes_plot <- diabetes_clean |>\n",
    "   ggplot(aes(x = Glucose, y = BloodPressure, color = HasDiabetes?)) +\n",
    "   geom_point(alpha = 0.6) +\n",
    "   labs(x = \"Glucose (standardized)\",\n",
    "        y = \"Blood Pressure (standardized)\",\n",
    "        color = \"Diagnosis\") +\n",
    "scale_color_manual(values = c(\"orange2\",\"steelblue2\")) +\n",
    "theme(text = element_text(size = 12))\n",
    "diabetes_plot"
   ]
  },
  {
   "cell_type": "code",
   "execution_count": null,
   "id": "90ed3772-8cab-4b56-a381-bf3580564291",
   "metadata": {},
   "outputs": [],
   "source": []
  },
  {
   "cell_type": "code",
   "execution_count": null,
   "id": "e3c7d558-acb7-446a-b55e-e4c19ef577f7",
   "metadata": {},
   "outputs": [],
   "source": []
  },
  {
   "cell_type": "markdown",
   "id": "f1951f82-c94f-49a9-9b9c-2950693caadb",
   "metadata": {},
   "source": [
    "**Methods:**\n",
    "\n",
    "Explain how you will conduct either your data analysis and which variables/columns you will use. Note - you do not need to use all variables/columns that exist in the raw data set. In fact, that's often not a good idea. For each variable think: is this a useful variable for prediction?\n",
    "\n",
    "Describe at least one way that you will visualize the results\n"
   ]
  },
  {
   "cell_type": "markdown",
   "id": "c2b73435-da1e-406f-8b96-4e36e04348b0",
   "metadata": {},
   "source": [
    "**Expected outcomes and significance:**\n",
    "\n",
    "What do you expect to find?\n",
    "\n",
    "What impact could such findings have?\n",
    "\n",
    "What future questions could this lead to?"
   ]
  },
  {
   "cell_type": "code",
   "execution_count": null,
   "id": "17f6f712-65bf-4b74-afad-3610a4774091",
   "metadata": {},
   "outputs": [],
   "source": []
  }
 ],
 "metadata": {
  "kernelspec": {
   "display_name": "R",
   "language": "R",
   "name": "ir"
  },
  "language_info": {
   "codemirror_mode": "r",
   "file_extension": ".r",
   "mimetype": "text/x-r-source",
   "name": "R",
   "pygments_lexer": "r",
   "version": "4.2.2"
  }
 },
 "nbformat": 4,
 "nbformat_minor": 5
}
